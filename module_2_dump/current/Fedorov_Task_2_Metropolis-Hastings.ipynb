{
 "cells": [
  {
   "cell_type": "markdown",
   "metadata": {},
   "source": [
    "Code from https://habr.com/ru/company/piter/blog/491268/\n",
    "for 1 dimensional case"
   ]
  },
  {
   "cell_type": "code",
   "execution_count": 257,
   "metadata": {},
   "outputs": [],
   "source": [
    "import numpy as np\n",
    "import matplotlib.pyplot as plt"
   ]
  },
  {
   "cell_type": "markdown",
   "metadata": {},
   "source": [
    "we will use standard normal distribution N(0,1), here is the log of it's density function"
   ]
  },
  {
   "cell_type": "code",
   "execution_count": 274,
   "metadata": {},
   "outputs": [],
   "source": [
    "#Используем два разных распределения для комплекмного сэмплирования\n",
    "#Стандрартное Нормальное распределение с параметрами mu = 0 и стандартным отклонением sigma = 1\n",
    "def log_prob_1(x):\n",
    "     return -np.sum(x ** 2) / (2 * (1 ** 2))\n",
    "    \n",
    "# #Нормальное распределение с параметрами mu = 2.5 и с стандартным отклонением sigma = 1\n",
    "def log_prob_2(x):\n",
    "    return -np.sum((x - 2.5) ** 2) / (2 * (1 ** 2))"
   ]
  },
  {
   "cell_type": "markdown",
   "metadata": {},
   "source": [
    "we define the stepsize "
   ]
  },
  {
   "cell_type": "code",
   "execution_count": 275,
   "metadata": {},
   "outputs": [],
   "source": [
    "def proposal(x, stepsize):\n",
    "    return np.random.uniform(low=x - 0.5 * stepsize, \n",
    "                             high=x + 0.5 * stepsize, \n",
    "                             size=x.shape)"
   ]
  },
  {
   "cell_type": "markdown",
   "metadata": {},
   "source": [
    "here we define the acceptance probability, using the symmetry of N(0,1)and the property of exponent function: exp(a)/exp(b)=exp(a-b)"
   ]
  },
  {
   "cell_type": "code",
   "execution_count": 276,
   "metadata": {},
   "outputs": [],
   "source": [
    "#Пусть вероятность получить значение из СНР распределения = 0.4"
   ]
  },
  {
   "cell_type": "code",
   "execution_count": 278,
   "metadata": {},
   "outputs": [],
   "source": [
    "def p_acc_MH(x_new, x_old, log_prob_1, log_prob_2):\n",
    "    return min(1, \n",
    "               (0.4 * np.exp(log_prob_1(x_new)) + 0.6 * np.exp(log_prob_2(x_new))) /\n",
    "               (0.4 * np.exp(log_prob_1(x_old)) + 0.6 * np.exp(log_prob_2(x_old)))\n",
    "              )"
   ]
  },
  {
   "cell_type": "markdown",
   "metadata": {},
   "source": [
    "sampling in MH-algorithm; \n",
    "also we return the acceptance decision"
   ]
  },
  {
   "cell_type": "code",
   "execution_count": 279,
   "metadata": {},
   "outputs": [],
   "source": [
    "def sample_MH(x_old, log_prob_1, log_prob_2, stepsize):\n",
    "    x_new = proposal(x_old, stepsize)\n",
    "    # here we determine whether the new state is accepted or not:\n",
    "    # we uniformly select a random number from [0,1] and compare\n",
    "    # its with the probability of successful acception\n",
    "    accept = np.random.random() < p_acc_MH(x_new, x_old, log_prob_1, log_prob_2)\n",
    "    if accept:\n",
    "        return accept, x_new\n",
    "    else:\n",
    "        return accept, x_old"
   ]
  },
  {
   "cell_type": "markdown",
   "metadata": {},
   "source": [
    "Markov chain construction (with n_total steps)"
   ]
  },
  {
   "cell_type": "code",
   "execution_count": 280,
   "metadata": {},
   "outputs": [],
   "source": [
    "def build_MH_chain(init, stepsize, n_total, log_prob_1, log_prob_2):\n",
    "\n",
    "    n_accepted = 0\n",
    "    chain = [init]\n",
    "\n",
    "    for _ in range(n_total):\n",
    "        accept, state = sample_MH(chain[-1], log_prob_1, log_prob_2, stepsize)\n",
    "        chain.append(state)\n",
    "        n_accepted += accept\n",
    "    \n",
    "    acceptance_rate = n_accepted / float(n_total)\n",
    "    \n",
    "    return chain, acceptance_rate\n"
   ]
  },
  {
   "cell_type": "code",
   "execution_count": 281,
   "metadata": {},
   "outputs": [
    {
     "name": "stdout",
     "output_type": "stream",
     "text": [
      "Acceptance rate: 0.820\n",
      "Last ten states of chain: -1.02308, -2.18486, -1.49382, -0.93748, 0.27324, -0.44867, 0.08463, 0.80911, -0.40765, -1.38743\n"
     ]
    }
   ],
   "source": [
    "chain, acceptance_rate = build_MH_chain(np.array([2.0]), 3.0, 100000, log_prob_1, log_prob_2)\n",
    "chain = [state for state, in chain]\n",
    "print(\"Acceptance rate: {:.3f}\".format(acceptance_rate))\n",
    "last_states = \", \".join(\"{:.5f}\".format(state) \n",
    "                        for state in chain[-10:])\n",
    "print(\"Last ten states of chain: \" + last_states)"
   ]
  },
  {
   "cell_type": "markdown",
   "metadata": {},
   "source": [
    "Check how close are we with this Markov chain"
   ]
  },
  {
   "cell_type": "code",
   "execution_count": 293,
   "metadata": {},
   "outputs": [
    {
     "data": {
      "image/png": "[encoded data removed]",
      "text/plain": [
       "<Figure size 432x288 with 1 Axes>"
      ]
     },
     "metadata": {
      "needs_background": "light"
     },
     "output_type": "display_data"
    }
   ],
   "source": [
    "def plot_samples(chain, log_prob_1, log_prob_2, ax, orientation='vertical', normalize=True,\n",
    "                 xlims=(-5, 5), legend=True):\n",
    "    from scipy.integrate import quad\n",
    "    from scipy.stats import norm\n",
    "    \n",
    "    ax.hist(chain, bins=50, density=True, label=\"MCMC samples\",\n",
    "           orientation=orientation)\n",
    "    # calculating the normalization constant of our PDF\n",
    "    # scipy.integrate.quad compute the a definite integral\n",
    "    if normalize:\n",
    "        Z, _ = quad(lambda x: 0.4 * norm(0, 1).pdf(x) + 0.6 * norm(2.5, 1).pdf(x), -np.inf, np.inf)\n",
    "    else:\n",
    "        Z = 1.0\n",
    "    xses = np.linspace(xlims[0], xlims[1], 1000)\n",
    "    yses = [0.4 * norm(0, 1).pdf(x) +\n",
    "                   0.6 * norm(2.5, 1).pdf(x) / Z for x in xses]\n",
    "    if orientation == 'horizontal':\n",
    "        (yses, xses) = (xses, yses)\n",
    "    ax.plot(xses, yses, label=\"true distribution\")\n",
    "    if legend:\n",
    "        ax.legend(frameon=False)\n",
    "    \n",
    "fig, ax = plt.subplots()\n",
    "plot_samples(chain[500:], log_prob_1, log_prob_2, ax)\n",
    "#despine(ax)\n",
    "ax.set_yticks(())\n",
    "plt.show()"
   ]
  },
  {
   "cell_type": "markdown",
   "metadata": {},
   "source": [
    "What is affected by step size? It is a parameter of the auxiliary distribution q, which controls how large the random steps performed by the Markov chain will be. If the step size is too large, the trial states often end up in the tail of the distribution, where the probability values are low. The Metropolis-Hastings sampling mechanism discards most of these steps, resulting in slower acceptance rates and significantly slower convergence"
   ]
  },
  {
   "cell_type": "code",
   "execution_count": 294,
   "metadata": {},
   "outputs": [
    {
     "name": "stdout",
     "output_type": "stream",
     "text": [
      "Acceptance rate: 0.164\n"
     ]
    },
    {
     "data": {
      "image/png": "[encoded data removed]",
      "text/plain": [
       "<Figure size 432x288 with 1 Axes>"
      ]
     },
     "metadata": {
      "needs_background": "light"
     },
     "output_type": "display_data"
    }
   ],
   "source": [
    "def sample_and_display(init_state, stepsize, n_total, n_burnin, log_prob_1, log_prob_2):\n",
    "    chain, acceptance_rate = build_MH_chain(init_state, stepsize, n_total, log_prob_1, log_prob_2)\n",
    "    print(\"Acceptance rate: {:.3f}\".format(acceptance_rate))\n",
    "    fig, ax = plt.subplots()\n",
    "    plot_samples([state for state, in chain[n_burnin:]], log_prob_1, log_prob_2, ax)\n",
    "    #despine(ax)\n",
    "    ax.set_yticks(())\n",
    "    plt.show()\n",
    "    \n",
    "sample_and_display(np.array([2.0]), 30, 10000, 500, log_prob_1, log_prob_2)"
   ]
  },
  {
   "cell_type": "markdown",
   "metadata": {},
   "source": [
    "what if step size will be small? The Markov chain will examine the probability distribution very slowly, and therefore also will not converge as quickly as with a proper step size"
   ]
  },
  {
   "cell_type": "code",
   "execution_count": 295,
   "metadata": {},
   "outputs": [
    {
     "name": "stdout",
     "output_type": "stream",
     "text": [
      "Acceptance rate: 0.998\n"
     ]
    },
    {
     "data": {
      "image/png": "[encoded data removed]",
      "text/plain": [
       "<Figure size 432x288 with 1 Axes>"
      ]
     },
     "metadata": {
      "needs_background": "light"
     },
     "output_type": "display_data"
    }
   ],
   "source": [
    "sample_and_display(np.array([2.0]), 0.1, 10000, 500, log_prob_1, log_prob_2)"
   ]
  },
  {
   "cell_type": "markdown",
   "metadata": {},
   "source": [
    "No matter how you choose the step size parameter, the Markov chain will eventually converge to a stationary distribution. But this may take a long time. The time during which we will simulate the Markov chain is set by the n_total parameter. It simply determines how many states of the Markov chain (and, therefore, the selected samples) we will have. If the chain converges slowly, then you need to increase n_total so that the Markov chain has time to \"forget\" the original state"
   ]
  },
  {
   "cell_type": "code",
   "execution_count": 296,
   "metadata": {},
   "outputs": [
    {
     "name": "stdout",
     "output_type": "stream",
     "text": [
      "Acceptance rate: 0.994\n"
     ]
    },
    {
     "data": {
      "image/png": "[encoded data removed]",
      "text/plain": [
       "<Figure size 432x288 with 1 Axes>"
      ]
     },
     "metadata": {
      "needs_background": "light"
     },
     "output_type": "display_data"
    }
   ],
   "source": [
    "sample_and_display(np.array([2.0]), 0.1, 500000, 500, log_prob_1, log_prob_2)"
   ]
  },
  {
   "cell_type": "code",
   "execution_count": null,
   "metadata": {},
   "outputs": [],
   "source": []
  },
  {
   "cell_type": "code",
   "execution_count": null,
   "metadata": {},
   "outputs": [],
   "source": []
  },
  {
   "cell_type": "code",
   "execution_count": null,
   "metadata": {},
   "outputs": [],
   "source": []
  },
  {
   "cell_type": "code",
   "execution_count": null,
   "metadata": {},
   "outputs": [],
   "source": []
  }
 ],
 "metadata": {
  "kernelspec": {
   "display_name": "Python 3",
   "language": "python",
   "name": "python3"
  },
  "language_info": {
   "codemirror_mode": {
    "name": "ipython",
    "version": 3
   },
   "file_extension": ".py",
   "mimetype": "text/x-python",
   "name": "python",
   "nbconvert_exporter": "python",
   "pygments_lexer": "ipython3",
   "version": "3.7.6"
  }
 },
 "nbformat": 4,
 "nbformat_minor": 4
}
