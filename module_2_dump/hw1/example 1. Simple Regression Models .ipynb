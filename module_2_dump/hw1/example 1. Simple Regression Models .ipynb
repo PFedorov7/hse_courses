{
 "cells": [
  {
   "cell_type": "code",
   "execution_count": 2,
   "metadata": {},
   "outputs": [],
   "source": [
    "import pandas as pd\n",
    "import numpy as np\n",
    "import seaborn as sns\n",
    "from sklearn.linear_model import LinearRegression\n",
    "import matplotlib.pyplot as plt\n",
    "\n",
    "import statsmodels.api as sm\n",
    "import statsmodels.formula.api as smf"
   ]
  },
  {
   "cell_type": "code",
   "execution_count": 3,
   "metadata": {},
   "outputs": [
    {
     "name": "stdout",
     "output_type": "stream",
     "text": [
      "[[ 0]\n",
      " [ 1]\n",
      " [ 2]\n",
      " [ 3]\n",
      " [ 4]\n",
      " [ 5]\n",
      " [ 6]\n",
      " [ 7]\n",
      " [ 8]\n",
      " [ 9]\n",
      " [10]]\n",
      "[0.24835708 0.93086785 2.32384427 3.76151493 3.88292331 4.88293152\n",
      " 6.78960641 7.38371736 7.76526281 9.27128002 9.76829115]\n"
     ]
    }
   ],
   "source": [
    "times = np.array([0,1,2,3,4,5,6,7,8,9,10]).reshape((-1, 1))\n",
    "distances = np.array([ 0.24835708,  0.93086785,  2.32384427,  3.76151493,  3.88292331,\n",
    "        4.88293152,  6.78960641,  7.38371736,  7.76526281,  9.27128002,\n",
    "        9.76829115])\n",
    "print(times)\n",
    "print(distances)"
   ]
  },
  {
   "cell_type": "code",
   "execution_count": 4,
   "metadata": {},
   "outputs": [
    {
     "data": {
      "image/png": "[encoded data removed]",
      "text/plain": [
       "<Figure size 432x288 with 1 Axes>"
      ]
     },
     "metadata": {
      "needs_background": "light"
     },
     "output_type": "display_data"
    }
   ],
   "source": [
    "fig, axis = plt.subplots()\n",
    "line = axis.plot(times, distances, linestyle=\"\", marker=\"o\", color=\"red\")\n",
    "plt.show()"
   ]
  },
  {
   "cell_type": "markdown",
   "metadata": {},
   "source": [
    ".fit() for using data as input"
   ]
  },
  {
   "cell_type": "code",
   "execution_count": 5,
   "metadata": {},
   "outputs": [],
   "source": [
    "model = LinearRegression().fit(times,distances)"
   ]
  },
  {
   "cell_type": "code",
   "execution_count": 6,
   "metadata": {},
   "outputs": [
    {
     "name": "stdout",
     "output_type": "stream",
     "text": [
      "coefficient of determination: 0.9877139378077583\n",
      "coefficient of determination: 0.99\n"
     ]
    }
   ],
   "source": [
    "r_sq = model.score(times, distances)\n",
    "print('coefficient of determination:',r_sq)\n",
    "print('coefficient of determination: {:.2f}'.format(r_sq))"
   ]
  },
  {
   "cell_type": "code",
   "execution_count": 7,
   "metadata": {},
   "outputs": [
    {
     "name": "stdout",
     "output_type": "stream",
     "text": [
      "intercept: 0.30\n",
      "slope: 0.98\n"
     ]
    }
   ],
   "source": [
    "print('intercept: {:.2f}'.format(model.intercept_))\n",
    "print('slope: {:.2f}'.format(model.coef_[0]))"
   ]
  },
  {
   "cell_type": "code",
   "execution_count": 8,
   "metadata": {},
   "outputs": [
    {
     "name": "stdout",
     "output_type": "stream",
     "text": [
      "predicted response:\n",
      "[ 0.29911504  1.27581197  2.2525089   3.22920584  4.20590277  5.1825997\n",
      "  6.15929663  7.13599357  8.1126905   9.08938743 10.06608437]\n"
     ]
    }
   ],
   "source": [
    "dist_pred = model.predict(times)\n",
    "print('predicted response:', dist_pred, sep='\\n')"
   ]
  },
  {
   "cell_type": "code",
   "execution_count": 9,
   "metadata": {},
   "outputs": [
    {
     "data": {
      "image/png": "[encoded data removed]",
      "text/plain": [
       "<Figure size 432x288 with 1 Axes>"
      ]
     },
     "metadata": {
      "needs_background": "light"
     },
     "output_type": "display_data"
    }
   ],
   "source": [
    "fig, axis = plt.subplots()\n",
    "axis.plot(times, distances, linestyle=\" \", marker=\"o\", color=\"black\", label=\"Measured\")\n",
    "axis.plot(times, dist_pred, linestyle=\"-\", marker=None, color=\"red\", label=\"Modeled\")\n",
    "axis.grid(True)\n",
    "axis.legend(loc=\"best\")\n",
    "plt.show()"
   ]
  },
  {
   "cell_type": "code",
   "execution_count": 10,
   "metadata": {},
   "outputs": [
    {
     "name": "stdout",
     "output_type": "stream",
     "text": [
      "[[11]\n",
      " [12]\n",
      " [13]\n",
      " [14]]\n"
     ]
    }
   ],
   "source": [
    "times_new = np.arange(11, 15).reshape((-1, 1))\n",
    "print(times_new)"
   ]
  },
  {
   "cell_type": "code",
   "execution_count": 11,
   "metadata": {},
   "outputs": [
    {
     "name": "stdout",
     "output_type": "stream",
     "text": [
      "[11.0427813  12.01947823 12.99617516 13.9728721 ]\n"
     ]
    }
   ],
   "source": [
    "dist_pred_new = model.predict(times_new)\n",
    "print(dist_pred_new)"
   ]
  },
  {
   "cell_type": "code",
   "execution_count": 12,
   "metadata": {
    "scrolled": true
   },
   "outputs": [
    {
     "name": "stdout",
     "output_type": "stream",
     "text": [
      "                            OLS Regression Results                            \n",
      "==============================================================================\n",
      "Dep. Variable:                      y   R-squared:                       0.988\n",
      "Model:                            OLS   Adj. R-squared:                  0.986\n",
      "Method:                 Least Squares   F-statistic:                     723.5\n",
      "Date:                Thu, 10 Dec 2020   Prob (F-statistic):           6.57e-10\n",
      "Time:                        13:37:07   Log-Likelihood:                -3.8851\n",
      "No. Observations:                  11   AIC:                             11.77\n",
      "Df Residuals:                       9   BIC:                             12.57\n",
      "Df Model:                           1                                         \n",
      "Covariance Type:            nonrobust                                         \n",
      "==============================================================================\n",
      "                 coef    std err          t      P>|t|      [0.025      0.975]\n",
      "------------------------------------------------------------------------------\n",
      "const          0.2991      0.215      1.392      0.197      -0.187       0.785\n",
      "x1             0.9767      0.036     26.899      0.000       0.895       1.059\n",
      "==============================================================================\n",
      "Omnibus:                        1.603   Durbin-Watson:                   2.360\n",
      "Prob(Omnibus):                  0.449   Jarque-Bera (JB):                1.106\n",
      "Skew:                           0.562   Prob(JB):                        0.575\n",
      "Kurtosis:                       1.928   Cond. No.                         11.3\n",
      "==============================================================================\n",
      "\n",
      "Warnings:\n",
      "[1] Standard Errors assume that the covariance matrix of the errors is correctly specified.\n"
     ]
    },
    {
     "name": "stderr",
     "output_type": "stream",
     "text": [
      "/opt/anaconda3/lib/python3.7/site-packages/scipy/stats/stats.py:1535: UserWarning: kurtosistest only valid for n>=20 ... continuing anyway, n=11\n",
      "  \"anyway, n=%i\" % int(n))\n"
     ]
    }
   ],
   "source": [
    "import statsmodels.api as sm\n",
    "import statsmodels.formula.api as smf\n",
    "\n",
    "times_with_one = sm.add_constant(times)\n",
    "results = sm.OLS(distances, times_with_one).fit()\n",
    "print(results.summary())"
   ]
  },
  {
   "cell_type": "markdown",
   "metadata": {},
   "source": [
    "You can specify models using R-style formulas and pandas DataFrames: results = smf.ols('y ~ x1 + x2', data=data_df).fit()"
   ]
  },
  {
   "cell_type": "code",
   "execution_count": 13,
   "metadata": {},
   "outputs": [
    {
     "data": {
      "text/plain": [
       "array([-0.05075796, -0.34494412,  0.07133537,  0.53230909, -0.32297946,\n",
       "       -0.29966818,  0.63030978,  0.24772379, -0.34742769,  0.18189259,\n",
       "       -0.29779322])"
      ]
     },
     "execution_count": 13,
     "metadata": {},
     "output_type": "execute_result"
    }
   ],
   "source": [
    "residual = distances-dist_pred\n",
    "residual"
   ]
  },
  {
   "cell_type": "code",
   "execution_count": 14,
   "metadata": {},
   "outputs": [
    {
     "data": {
      "image/png": "[encoded data removed]",
      "text/plain": [
       "<Figure size 432x288 with 1 Axes>"
      ]
     },
     "metadata": {
      "needs_background": "light"
     },
     "output_type": "display_data"
    }
   ],
   "source": [
    "plt.scatter(times,residual)\n",
    "plt.xlabel(\"times - a predictor\")\n",
    "plt.ylabel(\"residual\")\n",
    "plt.show()"
   ]
  },
  {
   "cell_type": "markdown",
   "metadata": {},
   "source": [
    "Now it's you time to practice!"
   ]
  },
  {
   "cell_type": "code",
   "execution_count": 15,
   "metadata": {},
   "outputs": [],
   "source": [
    "from sklearn.datasets import load_boston\n",
    "boston = load_boston()\n",
    "#print(boston.DESCR)\n",
    "boston_df = pd.DataFrame(boston.data, columns=boston.feature_names)\n",
    "boston_df['MEDV'] = boston.target\n",
    "boston_df.head()\n",
    "X = boston_df[['LSTAT']].values\n",
    "y = boston_df['MEDV'].values"
   ]
  },
  {
   "cell_type": "code",
   "execution_count": null,
   "metadata": {},
   "outputs": [],
   "source": []
  },
  {
   "cell_type": "code",
   "execution_count": null,
   "metadata": {},
   "outputs": [],
   "source": []
  }
 ],
 "metadata": {
  "kernelspec": {
   "display_name": "Python 3",
   "language": "python",
   "name": "python3"
  },
  "language_info": {
   "codemirror_mode": {
    "name": "ipython",
    "version": 3
   },
   "file_extension": ".py",
   "mimetype": "text/x-python",
   "name": "python",
   "nbconvert_exporter": "python",
   "pygments_lexer": "ipython3",
   "version": "3.7.6"
  }
 },
 "nbformat": 4,
 "nbformat_minor": 4
}
