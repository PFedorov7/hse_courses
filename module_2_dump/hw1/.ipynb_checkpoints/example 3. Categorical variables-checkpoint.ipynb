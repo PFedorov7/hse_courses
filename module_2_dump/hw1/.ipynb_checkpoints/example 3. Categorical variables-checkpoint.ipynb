{
 "cells": [
  {
   "cell_type": "code",
   "execution_count": null,
   "metadata": {},
   "outputs": [],
   "source": [
    "import numpy as np\n",
    "import pandas as pd\n",
    "import matplotlib.pyplot as plt\n",
    "import seaborn as sns\n",
    "from sklearn.linear_model import LinearRegression"
   ]
  },
  {
   "cell_type": "code",
   "execution_count": null,
   "metadata": {},
   "outputs": [],
   "source": [
    "cars_df = pd.DataFrame({\"car\": [\"BMW\", \"Audi\", \"BMW\", \"Mersedes\"],\n",
    "                        \"retailer\": [\"Best cars ever\", \"Best cars ever\", \"Best cars ever\", \"AutoMoto\"]})\n",
    "cars_df"
   ]
  },
  {
   "cell_type": "code",
   "execution_count": null,
   "metadata": {},
   "outputs": [],
   "source": [
    "pd.get_dummies(cars_df)"
   ]
  },
  {
   "cell_type": "code",
   "execution_count": null,
   "metadata": {},
   "outputs": [],
   "source": [
    "from sklearn import preprocessing\n",
    "lb = preprocessing.LabelBinarizer()\n",
    "lb.fit_transform(cars_df[\"car\"])"
   ]
  },
  {
   "cell_type": "code",
   "execution_count": null,
   "metadata": {},
   "outputs": [],
   "source": [
    "lb.fit_transform(cars_df[\"retailer\"])"
   ]
  },
  {
   "cell_type": "code",
   "execution_count": null,
   "metadata": {},
   "outputs": [],
   "source": [
    "import statsmodels.api as sm\n",
    "import statsmodels.formula.api as smf\n",
    "\n",
    "duncan = sm.datasets.get_rdataset(\"Duncan\", \"carData\")"
   ]
  },
  {
   "cell_type": "code",
   "execution_count": null,
   "metadata": {},
   "outputs": [],
   "source": [
    "duncan.data"
   ]
  },
  {
   "cell_type": "code",
   "execution_count": null,
   "metadata": {},
   "outputs": [],
   "source": [
    "prestige_df = duncan.data.copy()\n",
    "prestige_dummies = pd.get_dummies(prestige_df)\n",
    "print(prestige_dummies)"
   ]
  },
  {
   "cell_type": "code",
   "execution_count": null,
   "metadata": {},
   "outputs": [],
   "source": [
    "prestige_df = duncan.data.copy()\n",
    "prestige_dummies = pd.get_dummies(prestige_df.select_dtypes(include=[object]))\n",
    "prestige_df = pd.concat([prestige_df, prestige_dummies], axis=1)\n",
    "print(prestige_df)"
   ]
  },
  {
   "cell_type": "code",
   "execution_count": null,
   "metadata": {},
   "outputs": [],
   "source": [
    "from sklearn.linear_model import LinearRegression\n",
    "\n",
    "X_prestige = prestige_df.drop([\"type\", \"prestige\"], axis=1).values\n",
    "y_prestige = prestige_df['prestige'].values\n",
    "\n",
    "X_train_prestige, X_test_prestige, y_train_prestige, y_test_prestige = train_test_split(\n",
    "    X_prestige, y_prestige, test_size=0.3, random_state=0)\n",
    "\n",
    "slr_prestige = LinearRegression()\n",
    "slr_prestige.fit(X_train_prestige, y_train_prestige)\n",
    "\n",
    "y_train_pred = slr_prestige.predict(X_train_prestige)\n",
    "y_test_pred = slr_prestige.predict(X_test_prestige)\n",
    "\n",
    "print('Slope: {}'.format(slr_prestige.coef_))\n",
    "print('Intercept: {:.2f}'.format(slr_prestige.intercept_))"
   ]
  },
  {
   "cell_type": "code",
   "execution_count": null,
   "metadata": {},
   "outputs": [],
   "source": [
    "results = smf.ols('prestige ~ education + income + C(type)', data=prestige_df).fit()\n",
    "results.summary()"
   ]
  },
  {
   "cell_type": "markdown",
   "metadata": {},
   "source": [
    "https://towardsdatascience.com/binary-logistic-regression-using-python-research-oriented-modelling-and-interpretation-49b025f1b510"
   ]
  },
  {
   "cell_type": "code",
   "execution_count": null,
   "metadata": {},
   "outputs": [],
   "source": [
    "url = 'https://raw.githubusercontent.com/rahul-raoniar/Rahul_CODIFY/master/Medium%20Blogs/Binary%20Logistic%20Regression%20using%20Python/diabetes.csv'"
   ]
  },
  {
   "cell_type": "code",
   "execution_count": null,
   "metadata": {},
   "outputs": [],
   "source": [
    "data1 = pd.read_csv(url)"
   ]
  },
  {
   "cell_type": "code",
   "execution_count": null,
   "metadata": {},
   "outputs": [],
   "source": [
    "data1 = data1.dropna(axis=0) \n",
    "data1.head()"
   ]
  },
  {
   "cell_type": "code",
   "execution_count": null,
   "metadata": {},
   "outputs": [],
   "source": [
    "data_dummies = pd.get_dummies(data1)\n",
    "data_dummies.head()"
   ]
  },
  {
   "cell_type": "code",
   "execution_count": null,
   "metadata": {},
   "outputs": [],
   "source": [
    "del data_dummies['diabetes_neg']\n",
    "data_dummies.describe()"
   ]
  },
  {
   "cell_type": "code",
   "execution_count": null,
   "metadata": {},
   "outputs": [],
   "source": [
    "sns.regplot(x = data_dummies['pedigree'], y = data_dummies['diabetes_pos'], \n",
    "            y_jitter = 0.03,\n",
    "            data = data_dummies, \n",
    "            logistic = True,\n",
    "            ci = None)\n",
    "plt.show()"
   ]
  },
  {
   "cell_type": "code",
   "execution_count": null,
   "metadata": {},
   "outputs": [],
   "source": [
    "x = data_dummies[['pedigree']].values\n",
    "y = data_dummies['diabetes_pos'].values\n",
    "\n",
    "model = LinearRegression().fit(x,y)\n",
    "X_fit = np.arange(0, 4, 1)[:, np.newaxis]\n",
    "y_pred = model.predict(X_fit)\n",
    "print('predicted response:', y_pred, sep='\\n')"
   ]
  },
  {
   "cell_type": "code",
   "execution_count": null,
   "metadata": {},
   "outputs": [],
   "source": [
    "fig, axis = plt.subplots()\n",
    "plt.scatter(x, y)\n",
    "plt.plot(X_fit, y_pred, color='red', linewidth=2);\n",
    "plt.show()"
   ]
  },
  {
   "cell_type": "code",
   "execution_count": null,
   "metadata": {},
   "outputs": [],
   "source": [
    "from sklearn.model_selection import train_test_split\n",
    "\n",
    "train_data, test_data = train_test_split(data_dummies,\n",
    "                                         test_size = 0.20,\n",
    "                                         random_state = 42)\n",
    "train_data.head()"
   ]
  },
  {
   "cell_type": "code",
   "execution_count": null,
   "metadata": {},
   "outputs": [],
   "source": [
    "import statsmodels.api as sm\n",
    "from statsmodels.formula.api import logit \n",
    "\n",
    "formula = ('diabetes_pos ~ pregnant + glucose + pressure + triceps + insulin + mass + pedigree + age')\n",
    "\n",
    "model = logit(formula = formula, data = train_data).fit()\n",
    "model.summary()"
   ]
  },
  {
   "cell_type": "code",
   "execution_count": null,
   "metadata": {},
   "outputs": [],
   "source": [
    "np.exp(model.params)"
   ]
  },
  {
   "cell_type": "code",
   "execution_count": null,
   "metadata": {},
   "outputs": [],
   "source": [
    "predicted = model.predict(test_data)\n",
    "print(predicted)"
   ]
  },
  {
   "cell_type": "markdown",
   "metadata": {},
   "source": [
    "X = data_dummies.iloc[:,:8]\n",
    "y = data_dummies['diabetes_pos']\n",
    "split = int(0.7*len(X))\n",
    " \n",
    "X_train, X_test, y_train, y_test = X[:split], X[split:], y[:split], y[split:]"
   ]
  },
  {
   "cell_type": "markdown",
   "metadata": {},
   "source": [
    "from sklearn.linear_model import LogisticRegression\n",
    "model1 = LogisticRegression()\n",
    "model1 = model1.fit (X_train,y_train)"
   ]
  },
  {
   "cell_type": "code",
   "execution_count": null,
   "metadata": {},
   "outputs": [],
   "source": [
    "res = (predicted > 0.5).astype(int)\n",
    "res.head()"
   ]
  },
  {
   "cell_type": "code",
   "execution_count": null,
   "metadata": {},
   "outputs": [],
   "source": [
    "AME = model.get_margeff(at='overall', method='dydx')\n",
    "print(AME.summary())"
   ]
  },
  {
   "cell_type": "code",
   "execution_count": null,
   "metadata": {},
   "outputs": [],
   "source": [
    "from sklearn.metrics import classification_report, accuracy_score, roc_auc_score\n",
    "\n",
    "y_actual = test_data[\"diabetes_pos\"]\n",
    "conf_matrix = pd.crosstab(y_actual, res,\n",
    "                       rownames = [\"Actual\"], \n",
    "                       colnames = [\"Predicted\"], \n",
    "                       margins = True)\n",
    "print(conf_matrix)"
   ]
  },
  {
   "cell_type": "code",
   "execution_count": null,
   "metadata": {},
   "outputs": [],
   "source": [
    "print(classification_report(y_actual, res))"
   ]
  },
  {
   "cell_type": "code",
   "execution_count": null,
   "metadata": {},
   "outputs": [],
   "source": []
  }
 ],
 "metadata": {
  "kernelspec": {
   "display_name": "Python 3",
   "language": "python",
   "name": "python3"
  },
  "language_info": {
   "codemirror_mode": {
    "name": "ipython",
    "version": 3
   },
   "file_extension": ".py",
   "mimetype": "text/x-python",
   "name": "python",
   "nbconvert_exporter": "python",
   "pygments_lexer": "ipython3",
   "version": "3.7.6"
  }
 },
 "nbformat": 4,
 "nbformat_minor": 4
}
